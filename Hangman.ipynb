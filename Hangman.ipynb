{
 "cells": [
  {
   "cell_type": "code",
   "execution_count": 4,
   "metadata": {
    "ExecuteTime": {
     "end_time": "2020-11-10T21:06:05.704325Z",
     "start_time": "2020-11-10T21:06:05.700251Z"
    }
   },
   "outputs": [],
   "source": [
    "import random\n",
    "import time"
   ]
  },
  {
   "cell_type": "code",
   "execution_count": 5,
   "metadata": {
    "ExecuteTime": {
     "end_time": "2020-11-10T21:06:06.041270Z",
     "start_time": "2020-11-10T21:06:06.033548Z"
    }
   },
   "outputs": [],
   "source": [
    "### Setting up variables\n",
    "\n",
    "def main():\n",
    "    global count\n",
    "    global display\n",
    "    global word\n",
    "    global already_guessed\n",
    "    global length\n",
    "    global play_game\n",
    "    words_to_guess = [\"network\",\"border\",\"image\",\"film\",\"promise\",\"whiskey\",\"lungs\",\"doll\",\"rhyme\",\"damage\",\"plants\"]\n",
    "    word = random.choice(words_to_guess)\n",
    "    length = len(word)\n",
    "    count = 0\n",
    "    display = '_' * length\n",
    "    already_guessed = []\n",
    "    play_game = \"\""
   ]
  },
  {
   "cell_type": "code",
   "execution_count": 6,
   "metadata": {
    "ExecuteTime": {
     "end_time": "2020-11-10T21:06:06.459902Z",
     "start_time": "2020-11-10T21:06:06.451698Z"
    }
   },
   "outputs": [],
   "source": [
    "### Game Loop\n",
    "\n",
    "def play_loop():\n",
    "    global play_game\n",
    "    play_game = input(\"Do You want to play again? y = yes, n = no \\n\")\n",
    "    while play_game not in [\"y\", \"n\",\"Y\",\"N\"]:\n",
    "        play_game = input(\"Do You want to play again? y = yes, n = no \\n\")\n",
    "    if play_game == \"y\" or play_game == \"y\" :\n",
    "        main()\n",
    "        hangman()\n",
    "    elif play_game == \"n\" or play_game == \"n\":\n",
    "        print(\"Thanks For Playing! We expect you back again!\")\n",
    "        return"
   ]
  },
  {
   "cell_type": "code",
   "execution_count": 7,
   "metadata": {
    "ExecuteTime": {
     "end_time": "2020-11-10T21:06:06.746951Z",
     "start_time": "2020-11-10T21:06:06.729603Z"
    }
   },
   "outputs": [],
   "source": [
    "### Game\n",
    "\n",
    "def hangman():\n",
    "    global count\n",
    "    global display\n",
    "    global word\n",
    "    global already_guessed\n",
    "    global play_game\n",
    "    limit = 5\n",
    "    guess = input(\"This is the Hangman Word: \" + display + \" Enter your guess: \\n\")\n",
    "    guess = guess.strip().lower()\n",
    "    if len(guess.strip()) == 0 or len(guess.strip()) >= 2 or guess <= \"9\":\n",
    "        print(\"Invalid Input, Try a letter\\n\")\n",
    "        hangman()\n",
    "    elif guess in word:\n",
    "        already_guessed.extend([guess])\n",
    "        index = word.find(guess)\n",
    "        word = word[:index] + \"_\" + word[index + 1:]\n",
    "        display = display[:index] + guess + display[index + 1:]\n",
    "        print(display + \"\\n\")\n",
    "    elif guess in already_guessed:\n",
    "        print(\"Try another letter.\\n\")\n",
    "    else:\n",
    "        count += 1\n",
    "        if count == 1:\n",
    "            time.sleep(1)\n",
    "            print(\"   _____ \\n\"\n",
    "                  \"  |      \\n\"\n",
    "                  \"  |      \\n\"\n",
    "                  \"  |      \\n\"\n",
    "                  \"  |      \\n\"\n",
    "                  \"  |      \\n\"\n",
    "                  \"  |      \\n\"\n",
    "                  \"__|__\\n\")\n",
    "            print(\"Wrong guess. \" + str(limit - count) + \" guesses remaining\\n\")\n",
    "        elif count == 2:\n",
    "            time.sleep(1)\n",
    "            print(\"   _____ \\n\"\n",
    "                  \"  |     | \\n\"\n",
    "                  \"  |     |\\n\"\n",
    "                  \"  |      \\n\"\n",
    "                  \"  |      \\n\"\n",
    "                  \"  |      \\n\"\n",
    "                  \"  |      \\n\"\n",
    "                  \"__|__\\n\")\n",
    "            print(\"Wrong guess. \" + str(limit - count) + \" guesses remaining\\n\")\n",
    "        elif count == 3:\n",
    "            time.sleep(1)\n",
    "            print(\"   _____ \\n\"\n",
    "                 \"  |     | \\n\"\n",
    "                 \"  |     |\\n\"\n",
    "                 \"  |     | \\n\"\n",
    "                 \"  |      \\n\"\n",
    "                 \"  |      \\n\"\n",
    "                 \"  |      \\n\"\n",
    "                 \"__|__\\n\")\n",
    "            print(\"Wrong guess. \" + str(limit - count) + \" guesses remaining\\n\")\n",
    "        elif count == 4:\n",
    "            time.sleep(1)\n",
    "            print(\"   _____ \\n\"\n",
    "                  \"  |     | \\n\"\n",
    "                  \"  |     |\\n\"\n",
    "                  \"  |     | \\n\"\n",
    "                  \"  |     O \\n\"\n",
    "                  \"  |      \\n\"\n",
    "                  \"  |      \\n\"\n",
    "                  \"__|__\\n\")\n",
    "            print(\"Wrong guess. \" + str(limit - count) + \" last guess remaining\\n\")\n",
    "        elif count == 5:\n",
    "            time.sleep(1)\n",
    "            print(\"   _____ \\n\"\n",
    "                  \"  |     | \\n\"\n",
    "                  \"  |     |\\n\"\n",
    "                  \"  |     | \\n\"\n",
    "                  \"  |     O \\n\"\n",
    "                  \"  |    /|\\ \\n\"\n",
    "                  \"  |    / \\ \\n\"\n",
    "                  \"__|__\\n\")\n",
    "            print(\"Wrong guess. You are hanged!!!\\n\")\n",
    "            print(\"The word was:\",already_guessed,word)\n",
    "            play_loop()\n",
    "    if word == '_' * length:\n",
    "        print(\"Congrats! You have guessed the word correctly!\")\n",
    "        play_loop()\n",
    "    elif count != limit:\n",
    "        hangman()"
   ]
  },
  {
   "cell_type": "code",
   "execution_count": 8,
   "metadata": {
    "ExecuteTime": {
     "end_time": "2020-11-10T21:06:06.990476Z",
     "start_time": "2020-11-10T21:06:06.987674Z"
    }
   },
   "outputs": [],
   "source": [
    "main()"
   ]
  },
  {
   "cell_type": "code",
   "execution_count": 9,
   "metadata": {
    "ExecuteTime": {
     "end_time": "2020-11-10T21:06:44.849995Z",
     "start_time": "2020-11-10T21:06:08.373657Z"
    }
   },
   "outputs": [
    {
     "name": "stdout",
     "output_type": "stream",
     "text": [
      "This is the Hangman Word: _______ Enter your guess: \n",
      "j\n",
      "   _____ \n",
      "  |      \n",
      "  |      \n",
      "  |      \n",
      "  |      \n",
      "  |      \n",
      "  |      \n",
      "__|__\n",
      "\n",
      "Wrong guess. 4 guesses remaining\n",
      "\n",
      "This is the Hangman Word: _______ Enter your guess: \n",
      "i\n",
      "____i__\n",
      "\n",
      "This is the Hangman Word: ____i__ Enter your guess: \n",
      "w\n",
      "   _____ \n",
      "  |     | \n",
      "  |     |\n",
      "  |      \n",
      "  |      \n",
      "  |      \n",
      "  |      \n",
      "__|__\n",
      "\n",
      "Wrong guess. 3 guesses remaining\n",
      "\n",
      "This is the Hangman Word: ____i__ Enter your guess: \n",
      "s\n",
      "____is_\n",
      "\n",
      "This is the Hangman Word: ____is_ Enter your guess: \n",
      "k\n",
      "   _____ \n",
      "  |     | \n",
      "  |     |\n",
      "  |     | \n",
      "  |      \n",
      "  |      \n",
      "  |      \n",
      "__|__\n",
      "\n",
      "Wrong guess. 2 guesses remaining\n",
      "\n",
      "This is the Hangman Word: ____is_ Enter your guess: \n",
      "l\n",
      "   _____ \n",
      "  |     | \n",
      "  |     |\n",
      "  |     | \n",
      "  |     O \n",
      "  |      \n",
      "  |      \n",
      "__|__\n",
      "\n",
      "Wrong guess. 1 last guess remaining\n",
      "\n",
      "This is the Hangman Word: ____is_ Enter your guess: \n",
      "f\n",
      "   _____ \n",
      "  |     | \n",
      "  |     |\n",
      "  |     | \n",
      "  |     O \n",
      "  |    /|\\ \n",
      "  |    / \\ \n",
      "__|__\n",
      "\n",
      "Wrong guess. You are hanged!!!\n",
      "\n",
      "The word was: ['i', 's'] prom__e\n",
      "Do You want to play again? y = yes, n = no \n",
      "n\n",
      "Thanks For Playing! We expect you back again!\n"
     ]
    }
   ],
   "source": [
    "hangman()"
   ]
  },
  {
   "cell_type": "code",
   "execution_count": null,
   "metadata": {},
   "outputs": [],
   "source": []
  }
 ],
 "metadata": {
  "kernelspec": {
   "display_name": "Python 3",
   "language": "python",
   "name": "python3"
  },
  "language_info": {
   "codemirror_mode": {
    "name": "ipython",
    "version": 3
   },
   "file_extension": ".py",
   "mimetype": "text/x-python",
   "name": "python",
   "nbconvert_exporter": "python",
   "pygments_lexer": "ipython3",
   "version": "3.7.5"
  }
 },
 "nbformat": 4,
 "nbformat_minor": 2
}
